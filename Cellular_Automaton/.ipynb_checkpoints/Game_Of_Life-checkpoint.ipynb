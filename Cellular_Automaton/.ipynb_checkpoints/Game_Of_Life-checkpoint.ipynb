{
 "cells": [
  {
   "cell_type": "code",
   "execution_count": 1,
   "metadata": {},
   "outputs": [
    {
     "name": "stdout",
     "output_type": "stream",
     "text": [
      "pygame 1.9.6\n",
      "Hello from the pygame community. https://www.pygame.org/contribute.html\n"
     ]
    }
   ],
   "source": [
    "## import of the needed packages\n",
    "import pygame\n",
    "import numpy as np\n",
    "import time"
   ]
  },
  {
   "cell_type": "code",
   "execution_count": 2,
   "metadata": {},
   "outputs": [
    {
     "ename": "KeyboardInterrupt",
     "evalue": "",
     "output_type": "error",
     "traceback": [
      "\u001b[0;31m---------------------------------------------------------------------------\u001b[0m",
      "\u001b[0;31mKeyboardInterrupt\u001b[0m                         Traceback (most recent call last)",
      "\u001b[0;32m<ipython-input-2-38b4a93f390f>\u001b[0m in \u001b[0;36m<module>\u001b[0;34m\u001b[0m\n\u001b[1;32m     64\u001b[0m                     (x * dimCellW, (y + 1) * dimCellH)]\n\u001b[1;32m     65\u001b[0m \u001b[0;34m\u001b[0m\u001b[0m\n\u001b[0;32m---> 66\u001b[0;31m             \u001b[0mpygame\u001b[0m\u001b[0;34m.\u001b[0m\u001b[0mdraw\u001b[0m\u001b[0;34m.\u001b[0m\u001b[0mpolygon\u001b[0m\u001b[0;34m(\u001b[0m\u001b[0mscreen\u001b[0m\u001b[0;34m,\u001b[0m \u001b[0;34m(\u001b[0m\u001b[0;36m120\u001b[0m\u001b[0;34m,\u001b[0m \u001b[0;36m120\u001b[0m\u001b[0;34m,\u001b[0m \u001b[0;36m120\u001b[0m\u001b[0;34m)\u001b[0m\u001b[0;34m,\u001b[0m \u001b[0mpoly\u001b[0m\u001b[0;34m,\u001b[0m \u001b[0mint\u001b[0m\u001b[0;34m(\u001b[0m\u001b[0mabs\u001b[0m\u001b[0;34m(\u001b[0m\u001b[0;36m1\u001b[0m \u001b[0;34m-\u001b[0m \u001b[0mtmp_gState\u001b[0m\u001b[0;34m[\u001b[0m\u001b[0mx\u001b[0m\u001b[0;34m,\u001b[0m \u001b[0my\u001b[0m\u001b[0;34m]\u001b[0m\u001b[0;34m)\u001b[0m\u001b[0;34m)\u001b[0m\u001b[0;34m)\u001b[0m\u001b[0;34m\u001b[0m\u001b[0;34m\u001b[0m\u001b[0m\n\u001b[0m\u001b[1;32m     67\u001b[0m \u001b[0;34m\u001b[0m\u001b[0m\n\u001b[1;32m     68\u001b[0m     \u001b[0mgState\u001b[0m \u001b[0;34m=\u001b[0m \u001b[0mnp\u001b[0m\u001b[0;34m.\u001b[0m\u001b[0mcopy\u001b[0m\u001b[0;34m(\u001b[0m\u001b[0mtmp_gState\u001b[0m\u001b[0;34m)\u001b[0m\u001b[0;34m\u001b[0m\u001b[0;34m\u001b[0m\u001b[0m\n",
      "\u001b[0;31mKeyboardInterrupt\u001b[0m: "
     ]
    }
   ],
   "source": [
    "## definition of parameters for the game\n",
    "size = width, height = 600, 600\n",
    "bgColor = 25, 25, 25\n",
    "nxCells = 60\n",
    "nyCells = 60\n",
    "dimCellW = (width -1 ) / nxCells\n",
    "dimCellH = (height - 1) / nyCells\n",
    "\n",
    "## body of the code\n",
    "pygame.init()\n",
    "\n",
    "screen = pygame.display.set_mode(size)\n",
    "screen.fill(bgColor)\n",
    "\n",
    "gState = np.zeros((nxCells, nyCells))\n",
    "\n",
    "gState[21, 21] = 1\n",
    "gState[22, 22] = 1\n",
    "gState[22, 23] = 1\n",
    "gState[21, 23] = 1\n",
    "gState[20, 23] = 1\n",
    "\n",
    "pause = False\n",
    "\n",
    "while 1:\n",
    "    \n",
    "    tmp_gState = np.copy(gState)\n",
    "    screen.fill(bgColor)\n",
    "    time.sleep(0.1)\n",
    "    \n",
    "    event = pygame.event.get()\n",
    "    for e in event:\n",
    "        if e.type == pygame.KEYDOWN:\n",
    "            pause = not pause\n",
    "        mouseClick = pygame.mouse.get_pressed()\n",
    "        if sum(mouseClick) > 0:\n",
    "            posMx, posMy = pygame.mouse.get_pos()\n",
    "            cellMx, cellMy = int(np.floor(posMx / dimCellW)), int(np.floor(posMy / dimCellH))\n",
    "            tmp_gState[cellMx, cellMy] = not mouseClick[2]\n",
    "    \n",
    "    for y in range(nyCells):\n",
    "        for x in range(nxCells):\n",
    "            \n",
    "            if not pause:\n",
    "            \n",
    "                nNeigh = gState[(x - 1) % nxCells, (y - 1) % nyCells] + \\\n",
    "                         gState[(x - 1) % nxCells, y % nyCells] + \\\n",
    "                         gState[(x - 1) % nxCells, (y + 1) % nyCells] + \\\n",
    "                         gState[x % nxCells, (y - 1) % nyCells] + \\\n",
    "                         gState[x % nxCells, (y + 1) % nyCells] + \\\n",
    "                         gState[(x + 1) % nxCells, (y - 1) % nyCells] + \\\n",
    "                         gState[(x + 1) % nxCells, y % nyCells] + \\\n",
    "                         gState[(x + 1) % nxCells, (y + 1) % nyCells]\n",
    "\n",
    "                ## rules for the Game of Life\n",
    "                if gState[x, y] == 0 and nNeigh == 3:\n",
    "                    tmp_gState[x, y] = 1\n",
    "                elif gState[x, y] == 1 and (nNeigh < 2 or nNeigh > 3):\n",
    "                    tmp_gState[x, y] = 0\n",
    "                     \n",
    "            poly = [(x * dimCellW, y * dimCellH),\n",
    "                    ((x + 1) * dimCellW, y * dimCellH),\n",
    "                    ((x + 1) * dimCellW, (y + 1) * dimCellH),\n",
    "                    (x * dimCellW, (y + 1) * dimCellH)]\n",
    "            \n",
    "            pygame.draw.polygon(screen, (120, 120, 120), poly, int(abs(1 - tmp_gState[x, y])))\n",
    "    \n",
    "    gState = np.copy(tmp_gState)\n",
    "    pygame.display.flip()"
   ]
  },
  {
   "cell_type": "code",
   "execution_count": null,
   "metadata": {},
   "outputs": [],
   "source": []
  }
 ],
 "metadata": {
  "kernelspec": {
   "display_name": "Python 3",
   "language": "python",
   "name": "python3"
  },
  "language_info": {
   "codemirror_mode": {
    "name": "ipython",
    "version": 3
   },
   "file_extension": ".py",
   "mimetype": "text/x-python",
   "name": "python",
   "nbconvert_exporter": "python",
   "pygments_lexer": "ipython3",
   "version": "3.7.6"
  }
 },
 "nbformat": 4,
 "nbformat_minor": 4
}
