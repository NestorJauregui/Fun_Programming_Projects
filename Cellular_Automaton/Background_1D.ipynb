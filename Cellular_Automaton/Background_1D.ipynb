{
 "cells": [
  {
   "cell_type": "code",
   "execution_count": 1,
   "metadata": {},
   "outputs": [
    {
     "name": "stdout",
     "output_type": "stream",
     "text": [
      "pygame 1.9.6\n",
      "Hello from the pygame community. https://www.pygame.org/contribute.html\n"
     ]
    }
   ],
   "source": [
    "## import of the needed packages\n"
   ]
  },
  {
   "cell_type": "code",
   "execution_count": null,
   "metadata": {},
   "outputs": [
    {
     "name": "stdout",
     "output_type": "stream",
     "text": [
      "pygame 1.9.6\n",
      "Hello from the pygame community. https://www.pygame.org/contribute.html\n"
     ]
    }
   ],
   "source": [
    "import pygame\n",
    "import numpy as np\n",
    "import time\n",
    "\n",
    "## definition of parameters for the game\n",
    "pygame.init()\n",
    "\n",
    "SCR_H = 700\n",
    "ADD_ERR = 0\n",
    "image = pygame.image.load('/home/nestor/Imágenes/Imagenes_LD/Nasa_Eagle_N.jpg')\n",
    "imSize = imWidth, imHeight = image.get_size()[0] , image.get_size()[1]\n",
    "size = width, height = int(SCR_H * (imWidth / imHeight)), int(SCR_H)\n",
    "r_image = pygame.Surface((int(width) + ADD_ERR, int(height)))\n",
    "r_image = pygame.transform.smoothscale(image, (int(width) + ADD_ERR, int(height)))\n",
    "bgColor = 25, 25, 25\n",
    "WHITE = 255, 255, 255\n",
    "nxCells = int(width / 2)\n",
    "nyCells = int(height / 2)\n",
    "dimCellW = (width -1 ) / nxCells\n",
    "dimCellH = (height - 1) / nyCells\n",
    "\n",
    "## body of the code\n",
    "\n",
    "screen = pygame.display.set_mode(size, pygame.RESIZABLE)\n",
    "screen.fill(WHITE)\n",
    "screen.blit(r_image, (0, 0))\n",
    "\n",
    "gState = np.zeros((nxCells, nyCells))\n",
    "\n",
    "gState[int(nxCells / 2), 0] = 1\n",
    "\n",
    "pause = True\n",
    "\n",
    "rules = list(np.binary_repr(150, width=8))\n",
    "rules.reverse()\n",
    "\n",
    "# for y in range(nyCells):\n",
    "#     for x in range(nxCells):\n",
    "#         poly = [(x * dimCellW, y * dimCellH),\n",
    "#                 ((x + 1) * dimCellW, y * dimCellH),\n",
    "#                 ((x + 1) * dimCellW, (y + 1) * dimCellH),\n",
    "#                 (x * dimCellW, (y + 1) * dimCellH)]\n",
    "#         pygame.draw.polygon(screen, (120, 120, 120), poly, 1)\n",
    "\n",
    "y = 0        \n",
    "\n",
    "while 1:\n",
    "    \n",
    "    tmp_gState = np.copy(gState)\n",
    "    \n",
    "    event = pygame.event.get()\n",
    "    for e in event:\n",
    "        if e.type == pygame.KEYDOWN:\n",
    "            pause = not pause\n",
    "        mouseClick = pygame.mouse.get_pressed()\n",
    "        if sum(mouseClick) > 0:\n",
    "            posMx, posMy = pygame.mouse.get_pos()\n",
    "            cellMx, cellMy = int(np.floor(posMx / dimCellW)), int(np.floor(posMy / dimCellH))\n",
    "            tmp_gState[cellMx, cellMy] = not mouseClick[2]\n",
    "        if e.type == pygame.QUIT : \n",
    "            pygame.quit() \n",
    "            quit() \n",
    "    \n",
    "    for x in range(nxCells):\n",
    "\n",
    "        if not pause:\n",
    "            ruleIndx = 4 * gState[(x - 1) % nxCells, y] + 2 * gState[x, y] + gState[(x + 1) % nxCells, y]\n",
    "            tmp_gState[x, (y + 1) % nyCells] = rules[int(ruleIndx)]\n",
    "\n",
    "        poly = [(x * dimCellW, y * dimCellH),\n",
    "                ((x + 1) * dimCellW, y * dimCellH),\n",
    "                ((x + 1) * dimCellW, (y + 1) * dimCellH),\n",
    "                (x * dimCellW, (y + 1) * dimCellH)]\n",
    "\n",
    "        if tmp_gState[x, y] == 1:\n",
    "            pygame.draw.polygon(screen, (25, 25, 25, 200), poly, 0)\n",
    "    if not pause:\n",
    "        y = (y + 1) % nyCells\n",
    "        \n",
    "    time.sleep(0.07)\n",
    "    gState = np.copy(tmp_gState)\n",
    "    pygame.display.flip()\n",
    "    pygame.display.update()"
   ]
  },
  {
   "cell_type": "code",
   "execution_count": null,
   "metadata": {},
   "outputs": [],
   "source": []
  }
 ],
 "metadata": {
  "kernelspec": {
   "display_name": "Python 3",
   "language": "python",
   "name": "python3"
  },
  "language_info": {
   "codemirror_mode": {
    "name": "ipython",
    "version": 3
   },
   "file_extension": ".py",
   "mimetype": "text/x-python",
   "name": "python",
   "nbconvert_exporter": "python",
   "pygments_lexer": "ipython3",
   "version": "3.7.6"
  }
 },
 "nbformat": 4,
 "nbformat_minor": 4
}
