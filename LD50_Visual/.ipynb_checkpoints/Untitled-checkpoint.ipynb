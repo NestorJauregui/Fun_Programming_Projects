{
 "cells": [
  {
   "cell_type": "code",
   "execution_count": 1,
   "metadata": {},
   "outputs": [
    {
     "name": "stdout",
     "output_type": "stream",
     "text": [
      "pygame 1.9.6\n",
      "Hello from the pygame community. https://www.pygame.org/contribute.html\n"
     ]
    },
    {
     "ename": "error",
     "evalue": "video system not initialized",
     "output_type": "error",
     "traceback": [
      "\u001b[0;31m---------------------------------------------------------------------------\u001b[0m",
      "\u001b[0;31merror\u001b[0m                                     Traceback (most recent call last)",
      "\u001b[0;32m<ipython-input-1-a5338baf345d>\u001b[0m in \u001b[0;36m<module>\u001b[0;34m\u001b[0m\n\u001b[1;32m     44\u001b[0m     \u001b[0mtime\u001b[0m\u001b[0;34m.\u001b[0m\u001b[0msleep\u001b[0m\u001b[0;34m(\u001b[0m\u001b[0;36m0.03\u001b[0m\u001b[0;34m)\u001b[0m\u001b[0;34m\u001b[0m\u001b[0;34m\u001b[0m\u001b[0m\n\u001b[1;32m     45\u001b[0m     \u001b[0;31m# pygame.display.flip()\u001b[0m\u001b[0;34m\u001b[0m\u001b[0;34m\u001b[0m\u001b[0;34m\u001b[0m\u001b[0m\n\u001b[0;32m---> 46\u001b[0;31m     \u001b[0mpygame\u001b[0m\u001b[0;34m.\u001b[0m\u001b[0mdisplay\u001b[0m\u001b[0;34m.\u001b[0m\u001b[0mupdate\u001b[0m\u001b[0;34m(\u001b[0m\u001b[0;34m)\u001b[0m\u001b[0;34m\u001b[0m\u001b[0;34m\u001b[0m\u001b[0m\n\u001b[0m",
      "\u001b[0;31merror\u001b[0m: video system not initialized"
     ]
    }
   ],
   "source": [
    "import pygame\n",
    "import numpy as np\n",
    "import time\n",
    "\n",
    "pygame.init()\n",
    "\n",
    "SCR_H = 700\n",
    "image = pygame.image.load('/home/nestor/Imágenes/Imagenes_LD/Nasa_Eagle_N.jpg')\n",
    "imSize = imWidth, imHeight = image.get_size()[0] , image.get_size()[1]\n",
    "size = width, height = int(SCR_H * (imWidth / imHeight)), int(SCR_H)\n",
    "r_image = pygame.Surface((width, height))\n",
    "r_image = pygame.transform.smoothscale(image, (width, height))\n",
    "lil_image = pygame.image.load('/home/nestor/Imágenes/Imagenes_LD/square.png')\n",
    "\n",
    "lil_size = lil_width, lil_height = 300, 300\n",
    "lil_r_image = pygame.Surface(lil_size)\n",
    "lil_r_image = pygame.transform.smoothscale(lil_image, lil_size)\n",
    "\n",
    "bgColor = 25, 25, 25\n",
    "WHITE = 255, 255, 255\n",
    "\n",
    "screen = pygame.display.set_mode(size, pygame.RESIZABLE)\n",
    "screen.fill(WHITE)\n",
    "screen.blit(r_image, (0, 0))\n",
    "screen.blit(lil_r_image, (int((width - lil_width) / 2), int((height - lil_height) / 2)))\n",
    "\n",
    "pause = True\n",
    "\n",
    "while 1:\n",
    "    \n",
    "    event = pygame.event.get()\n",
    "    for e in event:\n",
    "        if e.type == pygame.KEYDOWN:\n",
    "            pause = not pause\n",
    "#         mouseClick = pygame.mouse.get_pressed()\n",
    "#         if sum(mouseClick) > 0:\n",
    "#             posMx, posMy = pygame.mouse.get_pos()\n",
    "#             cellMx, cellMy = int(np.floor(posMx / dimCellW)), int(np.floor(posMy / dimCellH))\n",
    "#             tmp_gState[cellMx, cellMy] = not mouseClick[2]\n",
    "        if e.type == pygame.QUIT : \n",
    "            pygame.quit() \n",
    "            quit() \n",
    "        \n",
    "    time.sleep(0.03)\n",
    "    # pygame.display.flip()\n",
    "    pygame.display.update()"
   ]
  },
  {
   "cell_type": "code",
   "execution_count": null,
   "metadata": {},
   "outputs": [],
   "source": []
  }
 ],
 "metadata": {
  "kernelspec": {
   "display_name": "Python 3",
   "language": "python",
   "name": "python3"
  },
  "language_info": {
   "codemirror_mode": {
    "name": "ipython",
    "version": 3
   },
   "file_extension": ".py",
   "mimetype": "text/x-python",
   "name": "python",
   "nbconvert_exporter": "python",
   "pygments_lexer": "ipython3",
   "version": "3.7.6"
  }
 },
 "nbformat": 4,
 "nbformat_minor": 4
}
